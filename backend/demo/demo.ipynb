{
 "cells": [
  {
   "cell_type": "code",
   "execution_count": 1,
   "metadata": {},
   "outputs": [],
   "source": [
    "import sys\n",
    "\n",
    "import pandas as pd\n",
    "\n",
    "# add path to the kgp_meter codebase\n",
    "kgp_meter_relative_path = \"../\"\n",
    "sys.path.insert(1, kgp_meter_relative_path)\n",
    "\n",
    "from kin_genomic_privacy import SequencedFamilyTree"
   ]
  },
  {
   "cell_type": "markdown",
   "metadata": {},
   "source": [
    "# Creating a SequencedFamilyTree\n",
    "\n",
    "A ```SequencedFamilyTree``` needs a family tree ```edges``` with _family nodes_, a list of relatives who had their genomes sequenced ```sequenced_relatives```, a ```target``` and the list of nodes who represent ```family_nodes```."
   ]
  },
  {
   "cell_type": "code",
   "execution_count": 2,
   "metadata": {},
   "outputs": [],
   "source": [
    "edges = [\n",
    "    (\"father\", \"family\"),\n",
    "    (\"mother\", \"family\"),\n",
    "    (\"family\", \"target\"),\n",
    "    (\"family\", \"target\"),\n",
    "]\n",
    "sequenced_relatives = [\"father\", \"mother\"]\n",
    "target = \"target\"\n",
    "family_nodes = [\"family\"]"
   ]
  },
  {
   "cell_type": "code",
   "execution_count": 3,
   "metadata": {},
   "outputs": [],
   "source": [
    "sft = SequencedFamilyTree(edges, sequenced_relatives, target, family_nodes)"
   ]
  },
  {
   "cell_type": "markdown",
   "metadata": {},
   "source": [
    "Upon creation, the sequenced family tree's signature is computed. The signature will be the same for all trees that are equivalent (they will produce the same scores)."
   ]
  },
  {
   "cell_type": "code",
   "execution_count": 4,
   "metadata": {},
   "outputs": [
    {
     "data": {
      "text/plain": [
       "'735d97cfa7a858076744d407f765e933'"
      ]
     },
     "execution_count": 4,
     "metadata": {},
     "output_type": "execute_result"
    }
   ],
   "source": [
    "sft.signature"
   ]
  },
  {
   "cell_type": "markdown",
   "metadata": {},
   "source": [
    "# Computing a privacy score for a single Minor Allele Frequency/SNP"
   ]
  },
  {
   "cell_type": "markdown",
   "metadata": {},
   "source": [
    "```sft.compute_normalized_entropy(maf)``` computes the KGP Meter privacy score for a single SNP (=a single MAF), the normalized entropy."
   ]
  },
  {
   "cell_type": "code",
   "execution_count": 5,
   "metadata": {},
   "outputs": [
    {
     "data": {
      "text/plain": [
       "0.5599658651542885"
      ]
     },
     "execution_count": 5,
     "metadata": {},
     "output_type": "execute_result"
    }
   ],
   "source": [
    "maf = 0.3\n",
    "sft.compute_normalized_entropy(maf)"
   ]
  },
  {
   "cell_type": "markdown",
   "metadata": {},
   "source": [
    "Note that to improve performance, the ```SequencedFamilyTree``` class uses a cache: if in the same session a score is asked for another tree with the same signature, it will be returned from cache and not computed.\n",
    "\n",
    "It is possible to get detailed results broken down in each possible combination of SNP values of the observed relatives using ```sft.compute_normalized_entropy(maf,True)```. (for evidences: 0=AA, 1=Aa, 2=aa)"
   ]
  },
  {
   "cell_type": "code",
   "execution_count": 6,
   "metadata": {},
   "outputs": [
    {
     "data": {
      "text/html": [
       "<div>\n",
       "<style scoped>\n",
       "    .dataframe tbody tr th:only-of-type {\n",
       "        vertical-align: middle;\n",
       "    }\n",
       "\n",
       "    .dataframe tbody tr th {\n",
       "        vertical-align: top;\n",
       "    }\n",
       "\n",
       "    .dataframe thead th {\n",
       "        text-align: right;\n",
       "    }\n",
       "</style>\n",
       "<table border=\"1\" class=\"dataframe\">\n",
       "  <thead>\n",
       "    <tr style=\"text-align: right;\">\n",
       "      <th></th>\n",
       "      <th>evidence</th>\n",
       "      <th>p_evidence</th>\n",
       "      <th>target_distrib</th>\n",
       "      <th>exp_error</th>\n",
       "      <th>entropy_posterior</th>\n",
       "      <th>product_p_evidence_entropy_posterior</th>\n",
       "      <th>normalized_entropy</th>\n",
       "    </tr>\n",
       "  </thead>\n",
       "  <tbody>\n",
       "    <tr>\n",
       "      <th>0</th>\n",
       "      <td>{'mother': 2, 'father': 2}</td>\n",
       "      <td>0.0081</td>\n",
       "      <td>[0.0, 0.0, 1.0]</td>\n",
       "      <td>0.000</td>\n",
       "      <td>-0.0</td>\n",
       "      <td>-0.0000</td>\n",
       "      <td>-0.000000</td>\n",
       "    </tr>\n",
       "    <tr>\n",
       "      <th>1</th>\n",
       "      <td>{'mother': 2, 'father': 1}</td>\n",
       "      <td>0.0378</td>\n",
       "      <td>[0.0, 0.5, 0.5]</td>\n",
       "      <td>0.500</td>\n",
       "      <td>1.0</td>\n",
       "      <td>0.0378</td>\n",
       "      <td>0.744834</td>\n",
       "    </tr>\n",
       "    <tr>\n",
       "      <th>2</th>\n",
       "      <td>{'mother': 2, 'father': 0}</td>\n",
       "      <td>0.0441</td>\n",
       "      <td>[0.0, 1.0, 0.0]</td>\n",
       "      <td>0.000</td>\n",
       "      <td>-0.0</td>\n",
       "      <td>-0.0000</td>\n",
       "      <td>-0.000000</td>\n",
       "    </tr>\n",
       "    <tr>\n",
       "      <th>3</th>\n",
       "      <td>{'mother': 1, 'father': 2}</td>\n",
       "      <td>0.0378</td>\n",
       "      <td>[0.0, 0.5, 0.5]</td>\n",
       "      <td>0.500</td>\n",
       "      <td>1.0</td>\n",
       "      <td>0.0378</td>\n",
       "      <td>0.744834</td>\n",
       "    </tr>\n",
       "    <tr>\n",
       "      <th>4</th>\n",
       "      <td>{'mother': 1, 'father': 1}</td>\n",
       "      <td>0.1764</td>\n",
       "      <td>[0.25, 0.5, 0.25]</td>\n",
       "      <td>0.625</td>\n",
       "      <td>1.5</td>\n",
       "      <td>0.2646</td>\n",
       "      <td>1.117250</td>\n",
       "    </tr>\n",
       "    <tr>\n",
       "      <th>5</th>\n",
       "      <td>{'mother': 1, 'father': 0}</td>\n",
       "      <td>0.2058</td>\n",
       "      <td>[0.5, 0.5, 0.0]</td>\n",
       "      <td>0.500</td>\n",
       "      <td>1.0</td>\n",
       "      <td>0.2058</td>\n",
       "      <td>0.744834</td>\n",
       "    </tr>\n",
       "    <tr>\n",
       "      <th>6</th>\n",
       "      <td>{'mother': 0, 'father': 2}</td>\n",
       "      <td>0.0441</td>\n",
       "      <td>[0.0, 1.0, 0.0]</td>\n",
       "      <td>0.000</td>\n",
       "      <td>-0.0</td>\n",
       "      <td>-0.0000</td>\n",
       "      <td>-0.000000</td>\n",
       "    </tr>\n",
       "    <tr>\n",
       "      <th>7</th>\n",
       "      <td>{'mother': 0, 'father': 1}</td>\n",
       "      <td>0.2058</td>\n",
       "      <td>[0.5, 0.5, 0.0]</td>\n",
       "      <td>0.500</td>\n",
       "      <td>1.0</td>\n",
       "      <td>0.2058</td>\n",
       "      <td>0.744834</td>\n",
       "    </tr>\n",
       "    <tr>\n",
       "      <th>8</th>\n",
       "      <td>{'mother': 0, 'father': 0}</td>\n",
       "      <td>0.2401</td>\n",
       "      <td>[1.0, 0.0, 0.0]</td>\n",
       "      <td>0.000</td>\n",
       "      <td>-0.0</td>\n",
       "      <td>-0.0000</td>\n",
       "      <td>-0.000000</td>\n",
       "    </tr>\n",
       "  </tbody>\n",
       "</table>\n",
       "</div>"
      ],
      "text/plain": [
       "                     evidence  p_evidence     target_distrib  exp_error  \\\n",
       "0  {'mother': 2, 'father': 2}      0.0081    [0.0, 0.0, 1.0]      0.000   \n",
       "1  {'mother': 2, 'father': 1}      0.0378    [0.0, 0.5, 0.5]      0.500   \n",
       "2  {'mother': 2, 'father': 0}      0.0441    [0.0, 1.0, 0.0]      0.000   \n",
       "3  {'mother': 1, 'father': 2}      0.0378    [0.0, 0.5, 0.5]      0.500   \n",
       "4  {'mother': 1, 'father': 1}      0.1764  [0.25, 0.5, 0.25]      0.625   \n",
       "5  {'mother': 1, 'father': 0}      0.2058    [0.5, 0.5, 0.0]      0.500   \n",
       "6  {'mother': 0, 'father': 2}      0.0441    [0.0, 1.0, 0.0]      0.000   \n",
       "7  {'mother': 0, 'father': 1}      0.2058    [0.5, 0.5, 0.0]      0.500   \n",
       "8  {'mother': 0, 'father': 0}      0.2401    [1.0, 0.0, 0.0]      0.000   \n",
       "\n",
       "  entropy_posterior  product_p_evidence_entropy_posterior  normalized_entropy  \n",
       "0              -0.0                               -0.0000           -0.000000  \n",
       "1               1.0                                0.0378            0.744834  \n",
       "2              -0.0                               -0.0000           -0.000000  \n",
       "3               1.0                                0.0378            0.744834  \n",
       "4               1.5                                0.2646            1.117250  \n",
       "5               1.0                                0.2058            0.744834  \n",
       "6              -0.0                               -0.0000           -0.000000  \n",
       "7               1.0                                0.2058            0.744834  \n",
       "8              -0.0                               -0.0000           -0.000000  "
      ]
     },
     "execution_count": 6,
     "metadata": {},
     "output_type": "execute_result"
    }
   ],
   "source": [
    "nice_columns_order = [\"evidence\", \"p_evidence\", \"target_distrib\", \"exp_error\", \"entropy_posterior\", \"product_p_evidence_entropy_posterior\", \"normalized_entropy\"]\n",
    "pd.DataFrame(sft.compute_normalized_entropy(maf,True), columns = nice_columns_order)"
   ]
  },
  {
   "cell_type": "markdown",
   "metadata": {},
   "source": [
    "# Computing a privacy score for a large number of SNPs"
   ]
  },
  {
   "cell_type": "markdown",
   "metadata": {},
   "source": [
    "A DNA test usually has information on more than 500'000 SNP, it is pointless to compute a privacy score for each SNP as we can easily approximate them with sufficient precision using interpolation.\n",
    "\n",
    "```sft.snps_privacy_score(mafs_to_compute, mafs_to_interpolate)``` takes a list of MAFs ```mafs_to_compute``` for which an exact privacy score is computed (or taken from cache) and a list of MAFs ```mafs_to_interpolate``` whose score will be interpolated from the first list's scores.\n",
    "\n",
    "Here, we compute privacy scores for 16 MAFs and use them to approximate the score of the ~500k SNPs tested by 23AndMe (the approximation error is ~1.5%):"
   ]
  },
  {
   "cell_type": "code",
   "execution_count": 8,
   "metadata": {},
   "outputs": [],
   "source": [
    "mafs_to_compute = [0.0, 0.03125, 0.0625, 0.09375, 0.125, 0.15625,0.1875, 0.21875, 0.25, 0.28125, 0.3125, 0.34375, 0.375, 0.40625, 0.4375, 0.46875, 0.5]\n",
    "with open(\"../api/list_snp_v4.txt\") as f:\n",
    "    mafs_to_interpolate = sorted([float(maf) for maf in f.readlines()])"
   ]
  },
  {
   "cell_type": "code",
   "execution_count": 9,
   "metadata": {},
   "outputs": [
    {
     "data": {
      "text/plain": [
       "0.4949432932446821"
      ]
     },
     "execution_count": 9,
     "metadata": {},
     "output_type": "execute_result"
    }
   ],
   "source": [
    "sft.snps_privacy_score(mafs_to_compute, mafs_to_interpolate)"
   ]
  },
  {
   "cell_type": "code",
   "execution_count": null,
   "metadata": {},
   "outputs": [],
   "source": []
  },
  {
   "cell_type": "code",
   "execution_count": null,
   "metadata": {},
   "outputs": [],
   "source": []
  }
 ],
 "metadata": {
  "kernelspec": {
   "display_name": "kgp_meter",
   "language": "python",
   "name": "kgp_meter"
  },
  "language_info": {
   "codemirror_mode": {
    "name": "ipython",
    "version": 3
   },
   "file_extension": ".py",
   "mimetype": "text/x-python",
   "name": "python",
   "nbconvert_exporter": "python",
   "pygments_lexer": "ipython3",
   "version": "3.7.3"
  }
 },
 "nbformat": 4,
 "nbformat_minor": 2
}
